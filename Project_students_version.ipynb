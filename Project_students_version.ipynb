{
 "cells": [
  {
   "cell_type": "code",
   "execution_count": null,
   "metadata": {
    "id": "kph1lruSgPWp"
   },
   "outputs": [],
   "source": [
    "import rps.robotarium as robotarium\n",
    "from rps.utilities.transformations import *\n",
    "from rps.utilities.barrier_certificates import *\n",
    "from rps.utilities.misc import *\n",
    "from rps.utilities.controllers import *\n",
    "\n",
    "import numpy as np\n",
    "import scipy.stats as st\n",
    "import time"
   ]
  },
  {
   "cell_type": "code",
   "execution_count": null,
   "metadata": {
    "id": "eszwfUCygPWs"
   },
   "outputs": [],
   "source": [
    "#Defining the input axes\n",
    "# Note: the boundaries for the control actions are the actuation constraints imposed by the physics of the robots\n",
    "\n",
    "control_space_size = 3  # Three possible inputs for each control axis\n",
    "# la u è discretizzata su 3 valori\n",
    "\n",
    "U_space_1 = np.array(np.linspace((-0.5),(0.5),control_space_size)) \n",
    "U_space_2 = np.array(np.linspace((-0.5),(0.5),control_space_size))\n",
    "\n",
    "# E' come se avessimo uno spazio planare sul quale fornire le azioni di controllo u1 u2\n",
    "\n",
    "time_step = 0.033 # Robotarium time-step (from the documentation)"
   ]
  },
  {
   "cell_type": "code",
   "execution_count": null,
   "metadata": {
    "id": "XW7iQ2FfgPWv"
   },
   "outputs": [],
   "source": [
    "# This function performs a \"model\" step using the documented dynamics\n",
    "# Note: from the viewpoint of the controller the dynamics is not necesarily known\n",
    "def model_step(x,velocities,time_step):\n",
    "    poses = np.zeros((2,1))\n",
    "    # Update pose of the robots\n",
    "    poses[0] = x[0] + time_step*velocities[0]\n",
    "    poses[1] = x[1] + time_step*velocities[1]\n",
    "    return(poses)\n",
    "\n",
    "#Get the value of a Gaussian pf at a given point *****?\n",
    "# This function is used to evaluate the pf at a given point (x,y) given the mean and covariance of the Gaussian \n",
    "def my_logpdf(x, u, covar):\n",
    "    k = len(x)  # dimension\n",
    "    a = np.transpose(x - u)\n",
    "    b = np.linalg.inv(covar)\n",
    "    c = x - u\n",
    "    d = np.matmul(a, b)\n",
    "    e = np.matmul(d, c)\n",
    "    numer = np.exp(-0.5 * e)\n",
    "    f = (2 * np.pi)**k\n",
    "    g = np.linalg.det(covar)\n",
    "    denom = np.sqrt(f * g)\n",
    "    pdf = numer / denom\n",
    "    return pdf\n",
    "\n",
    "\n",
    "##### WP0: formalize the control problem #####\n",
    "\n",
    "# Task: reverse engineer the cost function used by the robots. What is the problem formulation? \n",
    "#      Is the one below a good cost for the task? Create a heatmap to visualize the cost \n",
    "\n",
    "# This function computes the cost of a state given the goal and obstacle points (the cost is a sum of Gaussians)\n",
    "def state_cost(state,goal_points,obs_points):\n",
    "    v = np.array([0.02, 0.02], dtype=np.float32)\n",
    "    covar = np.diag(v)\n",
    "    gauss_sum = 0\n",
    "\n",
    "    for i in range(np.size(obs_points,axis=1)):\n",
    "        gauss_sum += 20*my_logpdf(state[:2],obs_points[:2,i],covar) # Questo dipende dalle gaussiane mediate negli ostacoli,\n",
    "        # come se avessimo che più ci avviciniamo all'ostacolo più aumenti il posto\n",
    "\n",
    "    cost = 30*((state[0]-goal_points[0])**2 + (state[1]-goal_points[1])**2) + gauss_sum + 10*(np.exp(-0.5*((state[0]-(-1.5))/0.02)**2)/(0.02*np.sqrt(2*np.pi))\n",
    "                + np.exp(-0.5*((state[0]-1.5)/0.02)**2)/(0.02*np.sqrt(2*np.pi)) + np.exp(-0.5*((state[1]-1.0)/0.02)**2)/(0.02*np.sqrt(2*np.pi))\n",
    "                + np.exp(-0.5*((state[1]-(-1.0))/0.02)**2)/(0.02*np.sqrt(2*np.pi)))\n",
    "    return(cost)\n",
    "\n",
    "##### WP1: fill-in the code for the function below.\n",
    "#         The function needs to return the optimal action sampled from the optimal policy.\n",
    "#         The action is used in the simulation loop #####\n",
    "\n",
    "def Control_step(state,U_space_1,U_space_2,goal_points,obs_points):\n",
    "        ###\n",
    "        # Perform a control step given the fact that the target pf is uniform.\n",
    "        # The function first gets the target pf (uniform) and then applies the control solution we saw in class\n",
    "        \n",
    "        target_pf = 1/control_space_size**2 # Uniform pf\n",
    "        time_step = 0.033 # The Robotarium time-step\n",
    "\n",
    "        pf = np.zeros((control_space_size,control_space_size)) #Initialize pf\n",
    "        for i in range(control_space_size):\n",
    "            for j in range(control_space_size):\n",
    "                # Task: what do the next three lines do?\n",
    "                next_state = model_step(state,[U_space_1[i],U_space_2[j]],time_step)\n",
    "                cov = np.array([[0.001, 0.0002], [0.0002, 0.001]])\n",
    "                f = st.multivariate_normal(next_state.reshape((2,)),cov)\n",
    "\n",
    "                # Queste tre linee di codice calcolano il prossimo stato, a partire da una delle 9 azioni scandite\n",
    "                # dai cicli for, e creano una multivariata normale centrata nel prossimo stato con covarianza data\n",
    "\n",
    "                # Task: what do the next two lines do?\n",
    "                N_samples = 20\n",
    "                next_sample = f.rvs(N_samples)\n",
    "                # Queste due linee di codice campionano 20 campioni dalla distribuzione calcolata precedentemente\n",
    "\n",
    "                # Task: what do the next three lines do?\n",
    "                cost=0\n",
    "                for k in range(N_samples):\n",
    "                    cost+=state_cost(next_sample[k,:],goal_points,obs_points)/N_samples\n",
    "                # Calcoliamo il costo medio dei campioni secondo la funzione state_cost, si tratta di calcolare\n",
    "                # l'expected value della formula per la policy\n",
    "\n",
    "                # Task: write here a line of code, defining the variable log_DKL that contains the exponential in the policy\n",
    "                # print(\"entropy: \" + str(f.entropy()))\n",
    "                # print(\"next state: \" + str(next_state))\n",
    "                # print(\"cost: \" + str(cost))\n",
    "\n",
    "                log_DKL = np.exp(-cost+f.entropy())*target_pf\n",
    "\n",
    "                # la log_DKL è uguale, secondo formulazione, a np.exp(-DKL-costoatteso), il costo atteso lo abbiamo calcolato\n",
    "                # al punto precedente, mentre la DKL(f||g), dato che g è uniforme, diventa semplicemente l'entropia con un termine \n",
    "                # log(q) derivante da calcoli algebrici\n",
    "                \n",
    "                pf[i,j] = log_DKL #Calculate the DKL for each possible input, get corresponding probability\n",
    "        # Task: obtain the normalizer for the policy, call it S2\n",
    "        S2 = np.sum(pf)\n",
    "\n",
    "        # Task: obtain the normalized pf (call the variable pf)\n",
    "        pf = pf/S2\n",
    "\n",
    "        # This is a trick to properly sample from the multi-dimensional pf\n",
    "        flat = pf.flatten()\n",
    "\n",
    "        sample_index = np.random.choice(a=flat.size, p=flat)\n",
    "\n",
    "        # Take this index and adjust it so it matches the original array\n",
    "        adjusted_index = np.unravel_index(sample_index, pf.shape)\n",
    "        #Get the action\n",
    "        action = np.reshape(np.array([U_space_1[adjusted_index[0]],U_space_2[adjusted_index[1]]]),(2,1))\n",
    "\n",
    "        return(action)"
   ]
  },
  {
   "cell_type": "code",
   "execution_count": null,
   "metadata": {},
   "outputs": [],
   "source": [
    "# this function is used to plot the heatmap of the cost function\n",
    "def plot_heatmap(goal_points,obs_points):\n",
    "    x_min = -1.5\n",
    "    x_max = 1.5\n",
    "    y_min = -1\n",
    "    y_max = 1\n",
    "    x_range = np.linspace(x_min,x_max,100)\n",
    "    y_range = np.linspace(y_min,y_max,100)\n",
    "    X, Y = np.meshgrid(x_range, y_range)\n",
    "    Z = np.zeros((100,100))\n",
    "    for i in range(100):\n",
    "        for j in range(100):\n",
    "            Z[i,j] = state_cost(np.array([X[i,j],Y[i,j]]),goal_points,obs_points)\n",
    "    plt.pcolormesh(X,Y,Z)\n",
    "    plt.colorbar()\n",
    "    plt.scatter(goal_points[0],goal_points[1],c='r')\n",
    "    plt.scatter(obs_points[0,:],obs_points[1,:],c='k')\n",
    "    plt.show()"
   ]
  },
  {
   "cell_type": "code",
   "execution_count": null,
   "metadata": {
    "id": "wy2b_CxogPWy"
   },
   "outputs": [],
   "source": [
    "# Define goal and obstacle points\n",
    "goal_points = np.array(np.mat('-1.4; -0.8; 0')) # Da traccia\n",
    "# goal_points = np.array(np.mat('0; 0; 0')) # test\n",
    "\n",
    "obs_points = np.array(np.mat('0 0 0 0 0;0.2 0.4 0.6 0.8 -0.8;0 0 0 0 0'))\n",
    "\n",
    "# Plot the heatmap of the cost function\n",
    "plot_heatmap(goal_points,obs_points)"
   ]
  },
  {
   "cell_type": "code",
   "execution_count": null,
   "metadata": {},
   "outputs": [],
   "source": [
    "#WP2: Simulate (4 experiments) and visualize each robot's trajectory"
   ]
  },
  {
   "cell_type": "code",
   "execution_count": null,
   "metadata": {
    "colab": {
     "base_uri": "https://localhost:8080/",
     "height": 1000
    },
    "id": "WsfTaVW4gPW0",
    "outputId": "40848e0e-6a4c-4ddc-b80e-b576acbbff2b"
   },
   "outputs": [],
   "source": [
    "# Instantiate Robotarium object\n",
    "N = 1 #Amount of robots per simulation\n",
    "# Initial conditions of the robot for 4 experiments\n",
    "initial_conditions = [np.array(np.mat('1.4;0.9; 0')),np.array(np.mat('0.2;0.9; 0')),np.array(np.mat('1.2;-0.5; 0')),np.array(np.mat('-1;0.9; 0'))] #Initial pose of the robots\n",
    "N_experiment = 4\n",
    "# X_si is going to be two-dimensional state history\n",
    "X_Si = [0]*N_experiment\n",
    "# D_Xi is going to be two-dimensional inputs history\n",
    "D_Xi = [0]*N_experiment\n",
    "\n",
    "# This first for loop creates the initial conditions\n",
    "for I in range(N_experiment):\n",
    "\n",
    "    X_si = []\n",
    "    D_xi = []\n",
    "\n",
    "    r = robotarium.Robotarium(number_of_robots=N, show_figure=True, initial_conditions=initial_conditions[I], sim_in_real_time=False)\n",
    "\n",
    "    # Create mapping from the control inputs to the actual velocity commands to the unicycle\n",
    "    # Note: this is a very practical situation (robots often provide transformation functions to low level commands)\n",
    "    si_to_uni_dyn = create_si_to_uni_dynamics_with_backwards_motion() #Converts single integrator inputs to unicycle inputs (low-level controller)\n",
    "    _, uni_to_si_states = create_si_to_uni_mapping()\n",
    "    \n",
    "    # define x initially\n",
    "    x = r.get_poses()\n",
    "    x_si = uni_to_si_states(x)\n",
    "\n",
    "    # Plotting Parameters\n",
    "    CM = np.random.rand(N+10,3) # Random Colors\n",
    "    goal_marker_size_m = 0.15\n",
    "    obs_marker_size_m = 0.15\n",
    "    marker_size_goal = determine_marker_size(r,goal_marker_size_m)\n",
    "    marker_size_obs = determine_marker_size(r,obs_marker_size_m)\n",
    "    font_size = determine_font_size(r,0.1)\n",
    "    line_width = 5\n",
    "\n",
    "    # Create Goal Point Markers\n",
    "    #Text with goal identification\n",
    "    goal_caption = ['G{0}'.format(ii) for ii in range(goal_points.shape[1])]\n",
    "    #Plot text for caption\n",
    "    goal_points_text = [r.axes.text(goal_points[0,ii], goal_points[1,ii], goal_caption[ii], fontsize=font_size, color='k',fontweight='bold',horizontalalignment='center',verticalalignment='center',zorder=-2)\n",
    "    for ii in range(goal_points.shape[1])]\n",
    "    goal_markers = [r.axes.scatter(goal_points[0,ii], goal_points[1,ii], s=marker_size_goal, marker='s', facecolors='none',edgecolors=CM[ii,:],linewidth=line_width,zorder=-2)\n",
    "    for ii in range(goal_points.shape[1])]\n",
    "\n",
    "    #Text with goal identification\n",
    "    obs_caption = ['OBS{0}'.format(ii) for ii in range(obs_points.shape[1])]\n",
    "    #Plot text for caption\n",
    "    obs_points_text = [r.axes.text(obs_points[0,ii], obs_points[1,ii], obs_caption[ii], fontsize=font_size, color='k',fontweight='bold',horizontalalignment='center',verticalalignment='center',zorder=-2)\n",
    "    for ii in range(obs_points.shape[1])]\n",
    "    obs_markers = [r.axes.scatter(obs_points[0,ii], obs_points[1,ii], s=marker_size_obs, marker='s', facecolors='none',edgecolors=CM[ii+1,:],linewidth=line_width,zorder=-2)\n",
    "    for ii in range(obs_points.shape[1])]\n",
    "\n",
    "    r.step()\n",
    "\n",
    "    # While the robot is away from the objective ...\n",
    "    while (np.size(at_pose(np.vstack((x_si,x[2,:])), goal_points, position_error=0.15,rotation_error=100)) != N):\n",
    "\n",
    "        # Get poses of agents\n",
    "        x = r.get_poses()\n",
    "        x_si = uni_to_si_states(x)\n",
    "\n",
    "        #Add to the dataset\n",
    "        X_si.append(x_si)\n",
    "\n",
    "        # The lines below define the pdf of the robot \n",
    "        cov = np.array([[0.001, 0.0002], [0.0002, 0.001]])\n",
    "        x_pdf = st.multivariate_normal(x_si.reshape((2,)),cov)\n",
    "        x_sample = x_pdf.rvs() #Noisy state\n",
    "\n",
    "        # This is about plotting\n",
    "        for j in range(goal_points.shape[1]):\n",
    "            goal_markers[j].set_sizes([determine_marker_size(r, goal_marker_size_m)])\n",
    "\n",
    "        for j in range(obs_points.shape[1]):\n",
    "            obs_markers[j].set_sizes([determine_marker_size(r, obs_marker_size_m)])\n",
    "\n",
    "        # Task: compute the action from the policy. Call the variable dxi: \n",
    "        # this is the action sampled from the optimal solution to the control problem\n",
    "        dxi = Control_step(x_sample,U_space_1,U_space_2,goal_points,obs_points) \n",
    "\n",
    "        D_xi.append(dxi)\n",
    "\n",
    "        # Transform single integrator velocity commands to unicycle inputs (low level controller)\n",
    "        dxu = si_to_uni_dyn(dxi, x)\n",
    "\n",
    "        # Set the velocities inputs\n",
    "        r.set_velocities(np.arange(N), dxu)\n",
    "        # Iterate the simulation\n",
    "        r.step()\n",
    "\n",
    "    D_Xi[I] = D_xi\n",
    "    X_Si[I] = X_si\n",
    "\n",
    "    #Call at end of script to print debug information and for your script to run on the Robotarium server properly\n",
    "    r.call_at_scripts_end()"
   ]
  },
  {
   "cell_type": "code",
   "execution_count": null,
   "metadata": {
    "id": "Ass2XqjRgPW3"
   },
   "outputs": [],
   "source": [
    "XX = X_Si\n",
    "UU = D_Xi"
   ]
  },
  {
   "cell_type": "code",
   "execution_count": null,
   "metadata": {
    "id": "MyRxll4KgPW5"
   },
   "outputs": [],
   "source": [
    "#Prepare data for plotting\n",
    "X = []\n",
    "X_plot = []\n",
    "U = []\n",
    "U_plot = []\n",
    "\n",
    "for i in range(len(XX)):\n",
    "    X.append(np.array(XX[i]))\n",
    "    X_plot.append(np.array(XX[i]))\n",
    "\n",
    "X = np.concatenate(X, axis=0)\n",
    "X = np.reshape(X, (-1, 2))\n",
    "\n",
    "U = []\n",
    "for i in range(len(UU)):\n",
    "    U.append(np.array(UU[i]))\n",
    "    U_plot.append(np.array(UU[i]))\n",
    "\n",
    "U = np.concatenate(U, axis=0)\n",
    "U = np.reshape(U, (-1, 2))"
   ]
  },
  {
   "cell_type": "code",
   "execution_count": null,
   "metadata": {
    "colab": {
     "base_uri": "https://localhost:8080/",
     "height": 455
    },
    "id": "PqEl3OXpgPW_",
    "outputId": "a710f7af-4b2e-486e-908b-063e24924946"
   },
   "outputs": [],
   "source": [
    "import matplotlib.pyplot as plt\n",
    "from matplotlib import cm\n",
    "from matplotlib.ticker import LinearLocator\n",
    "import numpy as np\n",
    "\n",
    "#Task: plot trajectories with different colors\n",
    "plt.figure()\n",
    "\n",
    "for i in range(len(X_plot)):\n",
    "    plt.plot(X_plot[i][:, 0], X_plot[i][:, 1], label=f'Traiettoria {i+1}')\n",
    "    plt.plot(X_plot[i][0, 0],X_plot[i][0, 1],'*',color='black',markersize=10)\n",
    "\n",
    "\n",
    "\n",
    "\n",
    "#Draw obstacles\n",
    "square1 = plt.Rectangle((-1.6,-1), 0.4, 0.4, fc='green',ec=\"black\")\n",
    "square3 = plt.Rectangle((-0.2,-1), 0.4, 0.4, fc='red',ec=\"black\")\n",
    "square2 = plt.Rectangle((-0.2,0), 0.4, 0.8, fc='red',ec=\"black\")\n",
    "plt.gca().add_patch(square2)\n",
    "plt.gca().add_patch(square1)\n",
    "plt.gca().add_patch(square3)\n",
    "plt.ylim(-1,1)\n",
    "plt.xlim(-1.5,1.5)\n",
    "plt.xlabel('X [m]')\n",
    "plt.ylabel('Y [m]')\n",
    "plt.savefig('Training_Trajectories.jpg',dpi=1000,bbox_inches ='tight')"
   ]
  },
  {
   "cell_type": "code",
   "execution_count": null,
   "metadata": {},
   "outputs": [],
   "source": [
    "##### WP3: Reverse engineer the features and visualize them #####"
   ]
  },
  {
   "cell_type": "code",
   "execution_count": null,
   "metadata": {
    "id": "kjLf-AbTgPXB"
   },
   "outputs": [],
   "source": [
    "#Redefining the feature points on the robotarium grid\n",
    "obs_points_f = np.array(np.mat('0 0 0 0 0 0.8 0.8 0.8 0.8 0.8 -0.8 -0.8 -0.8 -0.8 -0.8;-0.8 -0.4 0 0.4 0.8 -0.8 -0.4 0 0.4 0.8 -0.8 -0.4 0 0.4 0.8;0 0 0 0 0 0 0 0 0 0 0 0 0 0 0'))"
   ]
  },
  {
   "cell_type": "code",
   "execution_count": null,
   "metadata": {},
   "outputs": [],
   "source": [
    "plot_heatmap(goal_points,obs_points_f)"
   ]
  },
  {
   "cell_type": "code",
   "execution_count": null,
   "metadata": {
    "id": "1XXOIr-DgPXD"
   },
   "outputs": [],
   "source": [
    "# Task: reverse engineer the features and critically discuss them\n",
    "\n",
    "N_feature = np.size(obs_points_f,axis=1)+1\n",
    "\n",
    "def feature(next_state,goal_points,obs_points,N_feature):\n",
    "    v = np.array([0.025, 0.025], dtype=np.float32)\n",
    "    covar = np.diag(v)\n",
    "    features = np.zeros(N_feature)\n",
    "    for i in range(np.size(obs_points,axis=1)):\n",
    "        features[i+1] = my_logpdf(next_state[:2],obs_points[:2,i],covar)\n",
    "\n",
    "    features[0] = (((next_state[0]-goal_points[0])**2 + (next_state[1]-goal_points[1])**2))\n",
    "\n",
    "    return features"
   ]
  },
  {
   "cell_type": "code",
   "execution_count": null,
   "metadata": {
    "id": "XAi2q4NvgPXE"
   },
   "outputs": [],
   "source": [
    "##### WP4: using the previously defined features solve the inverse optimal control problem. \n",
    "#          Plot the estimated cost. \n",
    "#          Verify that the estimated cost allows the robot to complete the task #####"
   ]
  },
  {
   "cell_type": "code",
   "execution_count": null,
   "metadata": {
    "id": "H7shmt6xgPXF"
   },
   "outputs": [],
   "source": [
    "#%%capture\n",
    "'''\n",
    "Solving the convex optimisation problem to learn the cost.\n",
    "'''\n",
    "import cvxpy as cp\n",
    "import numpy as np\n",
    "import time\n",
    "M = np.size(X,axis=0) - 1\n",
    "w = cp.Variable((1,N_feature))\n",
    "constraints = [w >= 0]\n",
    "R = np.zeros((99,1))\n",
    "L = []\n",
    "\n",
    "f_expect = np.zeros((2,20))\n",
    "feature_sampled = np.zeros((N_feature,M))\n",
    "PF = np.zeros((control_space_size,control_space_size,M))\n",
    "\n",
    "for i in range(M):\n",
    "\n",
    "    #############################################################################################################################\n",
    "    features = np.zeros((N_feature,control_space_size,control_space_size))\n",
    "    state = np.array(X[i,:]) #Get the state\n",
    "\n",
    "    x0 = state.reshape(-1,1)\n",
    "    time_step = 0.033\n",
    "\n",
    "\n",
    "    pf = np.zeros((control_space_size,control_space_size)) #Initialize pf\n",
    "\n",
    "    for j in range(control_space_size):\n",
    "        for k in range(control_space_size):\n",
    "            next_state = model_step(state,[U_space_1[j],U_space_2[k]],time_step)\n",
    "            cov = np.array([[0.001, 0.0002], [0.0002, 0.001]])\n",
    "            f = st.multivariate_normal(next_state.reshape((2,)),cov)\n",
    "            next_sample = f.mean\n",
    "\n",
    "            N_samples = 5\n",
    "            next_samples = f.rvs(N_samples)\n",
    "            feature_sample = np.zeros((N_feature,N_samples))\n",
    "\n",
    "            for m in range(N_samples):\n",
    "                feature_sample[:,m] = feature(next_samples[m,:],goal_points,obs_points_f,N_feature)\n",
    "\n",
    "            features[:,j,k] = np.mean(feature_sample,axis=1)\n",
    "\n",
    "            #Calculate the DKL for each possible input, get corresponding probability\n",
    "            log_DKL = np.exp(-(-f.entropy()))\n",
    "            pf[j,k] = log_DKL\n",
    "    PF[:,:,i] = pf\n",
    "\n",
    "    features = np.reshape(features,(N_feature,control_space_size**2)) # N features x 9\n",
    "\n",
    "    f_sampled = model_step(state,U[i+1,:],time_step)\n",
    "    cov = np.array([[0.001, 0.0002], [0.0002, 0.001]])\n",
    "    f1 = st.multivariate_normal(f_sampled.reshape((2,)),cov)\n",
    "    next_samples_f1 = f1.rvs(N_samples)\n",
    "    feature_sample_f1 = np.zeros((N_feature,N_samples))\n",
    "    for n in range(N_samples):\n",
    "        feature_sample_f1[:,n] = feature(next_samples_f1[n,:],goal_points,obs_points_f,N_feature)\n",
    "\n",
    "    feature_sampled[:,i] = np.mean(feature_sample_f1,axis=1)\n",
    "\n",
    "    # Task: solve, using cvx the convex optimization problem we saw in class. To do so:\n",
    "    # (i) prepare each individual term of the summation, say l;\n",
    "    tempPF = np.reshape(PF,(control_space_size**2,M)) # N features x 9\n",
    "\n",
    "    l =-(w @ feature_sampled[:,i])+cp.log_sum_exp(cp.reshape(w@features[:,:],(9,))+cp.log(tempPF[:,i]))\n",
    "    \n",
    "    # (ii) sum all the elements to define the cost function\n",
    "    L.append(l)\n",
    "\n",
    "    # (iii) solve the problem \n",
    "objective = cp.Minimize(cp.sum(L))\n",
    "\n",
    "prob = cp.Problem(objective)\n",
    "\n",
    "result = prob.solve(verbose = False)\n",
    "\n",
    "\n",
    "print(\"status:\", prob.status)\n",
    "print(\"optimal value\", prob.value)"
   ]
  },
  {
   "cell_type": "code",
   "execution_count": null,
   "metadata": {
    "colab": {
     "base_uri": "https://localhost:8080/"
    },
    "id": "EY1orFxPgPXH",
    "outputId": "24a7b313-560d-4e31-d3f1-49d9a25a0543"
   },
   "outputs": [],
   "source": [
    "# Show the values: critically discuss if these weights make sense\n",
    "weights = w.value\n",
    "\n",
    "print('weights:',weights)"
   ]
  },
  {
   "cell_type": "code",
   "execution_count": null,
   "metadata": {
    "colab": {
     "base_uri": "https://localhost:8080/"
    },
    "id": "2QgxBdrNgPXI",
    "outputId": "699171d0-3d2f-4195-af1c-fdbe5032e7af"
   },
   "outputs": [],
   "source": [
    "# Check the status of the optimization problem: did the optimization go well?\n",
    "print(\"status:\", prob.status)\n",
    "print(\"optimal value\", prob.value)"
   ]
  },
  {
   "cell_type": "code",
   "execution_count": null,
   "metadata": {
    "id": "3Xs5LG7IgPXJ"
   },
   "outputs": [],
   "source": [
    "# Reformatting the original cost map (just for checking and plotting purposes)\n",
    "\n",
    "import numpy as np\n",
    "import scipy.stats as st\n",
    "import pandas as pd\n",
    "\n",
    "goal_points = np.array(np.mat('-1.4; -0.8; 0'))\n",
    "\n",
    "#obs_points = np.array(np.mat('0 0 0 0 0 0;0 0.2 0.4 0.6 0.8 -0.8;0 0 0 0 0 0'))\n",
    "obs_points = np.array(np.mat('0 0 0 0 0;0.2 0.4 0.6 0.8 -0.8;0 0 0 0 0'))\n",
    "\n",
    "def state_cost(state,goal_points,obs_points):\n",
    "    v = np.array([0.02, 0.02], dtype=np.float32)\n",
    "    covar = np.diag(v)\n",
    "\n",
    "    gauss_sum = 0\n",
    "\n",
    "    for i in range(np.size(obs_points,axis=1)):\n",
    "        gauss_sum += 20*my_logpdf(state[:2],obs_points[:2,i],covar)\n",
    "\n",
    "    cost = 30*((state[0]-goal_points[0])**2 + (state[1]-goal_points[1])**2) + gauss_sum\n",
    "    return(cost)\n",
    "\n",
    "\n",
    "Cost_Map = np.zeros((300,200))\n",
    "X_axis = np.linspace(-1.5,1.5,300)\n",
    "Y_axis = np.linspace(-1,1,200)\n",
    "\n",
    "for i in range(200):\n",
    "    for j in range(300):\n",
    "\n",
    "        state = np.array([X_axis[j],Y_axis[i]])\n",
    "        Cost_Map[j,i] = state_cost(state,goal_points,obs_points)\n",
    "\n",
    "Coat_Map = pd.DataFrame(Cost_Map,index=list(X_axis),columns=Y_axis)"
   ]
  },
  {
   "cell_type": "code",
   "execution_count": null,
   "metadata": {
    "id": "SXBeF23UgPXL"
   },
   "outputs": [],
   "source": [
    "# Computing the reconstructed cost map\n",
    "\n",
    "import numpy as np\n",
    "import scipy.stats as st\n",
    "\n",
    "goal_points = np.array(np.mat('-1.4; -0.8; 0'))\n",
    "\n",
    "def state_cost_estimated(state,goal_points,obs_points,weights):\n",
    "    v = np.array([0.025, 0.025], dtype=np.float32)\n",
    "    covar = np.diag(v)\n",
    "\n",
    "    gauss_sum = 0\n",
    "\n",
    "    for i in range(np.size(obs_points,axis=1)):\n",
    "        gauss_sum += -weights[:,i+1]*my_logpdf(state[:2],obs_points[:2,i],covar)\n",
    "\n",
    "    cost = -weights[:,0]*((((state[0]-goal_points[0])**2 + (state[1]-goal_points[1])**2))) + gauss_sum\n",
    "    return(cost)\n",
    "\n",
    "\n",
    "Cost_Map = np.zeros((300,200))\n",
    "X_axis = np.linspace(-1.5,1.5,300)\n",
    "Y_axis = np.linspace(-1,1,200)\n",
    "\n",
    "for i in range(200):\n",
    "    for j in range(300):\n",
    "\n",
    "        state = np.array ([X_axis[j],Y_axis[i]])\n",
    "        Cost_Map[j,i] = state_cost_estimated(state,goal_points,obs_points_f,weights)"
   ]
  },
  {
   "cell_type": "code",
   "execution_count": null,
   "metadata": {
    "colab": {
     "base_uri": "https://localhost:8080/",
     "height": 429
    },
    "id": "I7poUkevgPXM",
    "outputId": "e4e9bc4c-b6a7-422e-a08b-0fa3a0652535"
   },
   "outputs": [],
   "source": [
    "import numpy as np\n",
    "import matplotlib.pyplot as plt\n",
    "\n",
    "# Transpose the data array to rotate the heatmap\n",
    "data_rotated = np.transpose(Cost_Map)\n",
    "\n",
    "# Task: plot the reconstructed cost\n"
   ]
  },
  {
   "cell_type": "code",
   "execution_count": null,
   "metadata": {
    "id": "BIo_AnGpgPXT"
   },
   "outputs": [],
   "source": [
    "#Task: re-define the function Control_step so that it now uses the estimated cost\n",
    "def Control_step(state,U_space_1,U_space_2,goal_points,obs_points):\n",
    "\n",
    "\n",
    "        return(action)"
   ]
  },
  {
   "cell_type": "code",
   "execution_count": null,
   "metadata": {
    "colab": {
     "base_uri": "https://localhost:8080/",
     "height": 1000
    },
    "id": "uLNguEgFgPXU",
    "outputId": "24679b38-d525-492f-e678-8799b8a28ff6"
   },
   "outputs": [],
   "source": [
    "# Instantiate Robotarium object (start the robots from different initial conditions than the 4 experiments above)\n",
    "N = 1\n",
    "initial_conditions = [np.array(np.mat('-1.4;0.9; 0')),np.array(np.mat('1;0.9; 0')),np.array(np.mat('1;-0.25; 0'))]\n",
    "N_experiment = 3\n",
    "# Definitions as above...\n",
    "X_Si = [0]*N_experiment\n",
    "D_Xi = [0]*N_experiment\n",
    "\n",
    "for I in range(N_experiment):\n",
    "\n",
    "    X_si = []\n",
    "    D_xi = []\n",
    "\n",
    "    r = robotarium.Robotarium(number_of_robots=N, show_figure=True, initial_conditions=initial_conditions[I], sim_in_real_time=False)\n",
    "\n",
    "    si_to_uni_dyn = create_si_to_uni_dynamics_with_backwards_motion()\n",
    "\n",
    "    x = r.get_poses()\n",
    "    x_si = uni_to_si_states(x)\n",
    "\n",
    "    CM = np.random.rand(N+10,3) \n",
    "    goal_marker_size_m = 0.15\n",
    "    obs_marker_size_m = 0.15\n",
    "    marker_size_goal = determine_marker_size(r,goal_marker_size_m)\n",
    "    marker_size_obs = determine_marker_size(r,obs_marker_size_m)\n",
    "    font_size = determine_font_size(r,0.1)\n",
    "    line_width = 5\n",
    "\n",
    "    goal_caption = ['G{0}'.format(ii) for ii in range(goal_points.shape[1])]\n",
    "    goal_points_text = [r.axes.text(goal_points[0,ii], goal_points[1,ii], goal_caption[ii], fontsize=font_size, color='k',fontweight='bold',horizontalalignment='center',verticalalignment='center',zorder=-2)\n",
    "    for ii in range(goal_points.shape[1])]\n",
    "    goal_markers = [r.axes.scatter(goal_points[0,ii], goal_points[1,ii], s=marker_size_goal, marker='s', facecolors='none',edgecolors=CM[ii,:],linewidth=line_width,zorder=-2)\n",
    "    for ii in range(goal_points.shape[1])]\n",
    "\n",
    "    obs_caption = ['OBS{0}'.format(ii) for ii in range(obs_points.shape[1])]\n",
    "    obs_points_text = [r.axes.text(obs_points[0,ii], obs_points[1,ii], obs_caption[ii], fontsize=font_size, color='k',fontweight='bold',horizontalalignment='center',verticalalignment='center',zorder=-2)\n",
    "    for ii in range(obs_points.shape[1])]\n",
    "    obs_markers = [r.axes.scatter(obs_points[0,ii], obs_points[1,ii], s=marker_size_obs, marker='s', facecolors='none',edgecolors=CM[ii+1,:],linewidth=line_width,zorder=-2)\n",
    "    for ii in range(obs_points.shape[1])]\n",
    "\n",
    "    r.step()\n",
    "    # Task: re-implement the simulation loop this time using the policy with the estimated cost\n",
    "    while (np.size(at_pose(np.vstack((x_si,x[2,:])), goal_points, position_error=0.15,rotation_error=100)) != N):\n",
    "\n",
    "      \n",
    "\n",
    "    D_Xi[I] = D_xi\n",
    "    X_Si[I] = X_si\n",
    "\n",
    "    r.call_at_scripts_end()"
   ]
  },
  {
   "cell_type": "code",
   "execution_count": null,
   "metadata": {
    "id": "c2gUBs9HgPXW"
   },
   "outputs": [],
   "source": [
    "XX = X_Si\n",
    "UU = D_Xi"
   ]
  },
  {
   "cell_type": "code",
   "execution_count": null,
   "metadata": {
    "id": "Zc26PNAzgPXX"
   },
   "outputs": [],
   "source": [
    "X = []\n",
    "X_plot = []\n",
    "U = []\n",
    "U_plot = []\n",
    "\n",
    "for i in range(len(XX)):\n",
    "    X.append(np.array(XX[i]))\n",
    "    X_plot.append(np.array(XX[i]))\n",
    "\n",
    "X = np.concatenate(X, axis=0)\n",
    "X = np.reshape(X, (-1, 2))\n",
    "\n",
    "U = []\n",
    "for i in range(len(UU)):\n",
    "    U.append(np.array(UU[i]))\n",
    "    U_plot.append(np.array(UU[i]))\n",
    "\n",
    "U = np.concatenate(U, axis=0)\n",
    "U = np.reshape(U, (-1, 2))"
   ]
  },
  {
   "cell_type": "code",
   "execution_count": null,
   "metadata": {
    "colab": {
     "base_uri": "https://localhost:8080/",
     "height": 472
    },
    "id": "Sq2vsBLMgPXY",
    "outputId": "c6e65995-63e3-47ac-fb97-7d930abc5887"
   },
   "outputs": [],
   "source": [
    "import matplotlib.pyplot as plt\n",
    "from matplotlib import cm\n",
    "from matplotlib.ticker import LinearLocator\n",
    "import numpy as np\n",
    "\n",
    "# Task: Plot robot trajectories (when the policy uses the reconstructed cost)\n",
    "\n",
    "\n",
    "#Draw obstacles\n",
    "square1 = plt.Rectangle((-1.6,-1), 0.4, 0.4, fc='green',ec=\"black\")\n",
    "square3 = plt.Rectangle((-0.2,-1), 0.4, 0.4, fc='red',ec=\"black\")\n",
    "square2 = plt.Rectangle((-0.2,0), 0.4, 0.8, fc='red',ec=\"black\")\n",
    "plt.gca().add_patch(square2)\n",
    "plt.gca().add_patch(square1)\n",
    "plt.gca().add_patch(square3)\n",
    "plt.ylim(-1,1)\n",
    "plt.xlim(-1.5,1.5)\n",
    "plt.xlabel('X [m]')\n",
    "plt.ylabel('Y [m]')"
   ]
  },
  {
   "cell_type": "code",
   "execution_count": null,
   "metadata": {
    "colab": {
     "base_uri": "https://localhost:8080/",
     "height": 430
    },
    "id": "Xgg5hhMogPXQ",
    "outputId": "b8c54575-1e46-441a-991d-9561ed668256"
   },
   "outputs": [],
   "source": [
    "# Task: plot the feature points on the robotarium grid with correspopnding weights\n",
    "\n",
    "import numpy as np\n",
    "import matplotlib.pyplot as plt\n",
    "\n"
   ]
  },
  {
   "cell_type": "code",
   "execution_count": null,
   "metadata": {},
   "outputs": [],
   "source": [
    "# Comment the results you observe in the figure generated by the above cell"
   ]
  }
 ],
 "metadata": {
  "colab": {
   "provenance": []
  },
  "kernelspec": {
   "display_name": "Python 3",
   "language": "python",
   "name": "python3"
  },
  "language_info": {
   "codemirror_mode": {
    "name": "ipython",
    "version": 3
   },
   "file_extension": ".py",
   "mimetype": "text/x-python",
   "name": "python",
   "nbconvert_exporter": "python",
   "pygments_lexer": "ipython3",
   "version": "3.11.4"
  }
 },
 "nbformat": 4,
 "nbformat_minor": 1
}
